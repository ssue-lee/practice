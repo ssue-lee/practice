{
 "cells": [
  {
   "cell_type": "code",
   "execution_count": 1,
   "metadata": {},
   "outputs": [],
   "source": [
    "import pandas as pd\n",
    "import numpy as np\n",
    "import seaborn as sns\n",
    "import matplotlib.pyplot as plt\n",
    "\n",
    "%matplotlib inline"
   ]
  },
  {
   "cell_type": "code",
   "execution_count": 2,
   "metadata": {},
   "outputs": [],
   "source": [
    "import os\n",
    "if os.name =='nt' :\n",
    "    plt.rc(\"font\", family=\"Malgun Gothic\")\n",
    "\n",
    "plt.rc(\"axes\", unicode_minus=False)"
   ]
  },
  {
   "cell_type": "code",
   "execution_count": 3,
   "metadata": {},
   "outputs": [],
   "source": [
    "%config lnlineBackend.figure_format = \"retina\""
   ]
  },
  {
   "cell_type": "code",
   "execution_count": 6,
   "metadata": {},
   "outputs": [
    {
     "data": {
      "text/plain": [
       "(21, 10)"
      ]
     },
     "execution_count": 6,
     "metadata": {},
     "output_type": "execute_result"
    }
   ],
   "source": [
    "df=pd.read_csv(\"data/수원도시공사_실내공기질 측정 정보_20200610.csv\", encoding=\"cp949\")\n",
    "df.shape"
   ]
  },
  {
   "cell_type": "code",
   "execution_count": 7,
   "metadata": {},
   "outputs": [
    {
     "data": {
      "text/plain": [
       "<bound method NDFrame.head of            주차장명                     주소     규모(㎡)  미세먼지(㎍/㎡)  이산화탄소(ppm)  \\\n",
       "0       권선지하공영1    경기도 수원시 권선구 권선동 980   2073.96       34.6         454   \n",
       "1       권선지하공영2    경기도 수원시 권선구 권선동 980   2073.96       31.3         499   \n",
       "2         영통공영1  경기도 수원시 영통구 영통동 995-3  10809.84       60.2         545   \n",
       "3         영통공영2  경기도 수원시 영통구 영통동 995-3  10809.84       53.2         501   \n",
       "4         영통공영3  경기도 수원시 영통구 영통동 995-3  10809.84       49.9         450   \n",
       "5         매봉공영1   경기도 수원시 영통구 매탄동 1210   5302.71       46.9         458   \n",
       "6         매봉공영2   경기도 수원시 영통구 매탄동 1210   5302.71       34.1         462   \n",
       "7        영화동공영1  경기도 수원시 장안구 영화동 230-3      3520       43.3         450   \n",
       "8        영화동공영2  경기도 수원시 장안구 영화동 230-3      3520       39.7         496   \n",
       "9         인계공영1    경기도 수원시 팔달구 인계동 944   2620.17       64.4         580   \n",
       "10        인계공영2    경기도 수원시 팔달구 인계동 944   2620.17       61.8         492   \n",
       "11        교동공영1      경기도 수원시 팔달구 교동 98   9165.68       52.0         557   \n",
       "12        교동공영2      경기도 수원시 팔달구 교동 98   9165.68       47.6         469   \n",
       "13      우만지하공영1    경기도 수원시 팔달구 우만동 500    4105.6       64.5         501   \n",
       "14      우만지하공영2    경기도 수원시 팔달구 우만동 500    4105.6       48.3         482   \n",
       "15    수원역지하도상가1    경기도 수원시 팔달구 매산로1가17     3,393       45.3         560   \n",
       "16    수원역지하도상가2    경기도 수원시 팔달구 매산로1가17     3,393       48.9         585   \n",
       "17  수원역환승센터주차장1     경기도 수원시 팔달구 권선로445  2,571.83       49.9         441   \n",
       "18  수원역환승센터주차장2     경기도 수원시 팔달구 권선로445  2,571.83       55.9         415   \n",
       "19      광교환승센터1  경기도 수원시 영통구 이의동 292-3      3550       52.1         494   \n",
       "20      광교환승센터2  경기도 수원시 영통구 이의동 292-3      3550       51.5         513   \n",
       "\n",
       "    포름알데히드(㎍/㎡)  일산화탄소(ppm)  오존(ppm) 측정결과    데이터기준날짜   \n",
       "0         1.782         3.5      NaN   적합  2020-06-10  \n",
       "1         3.331         3.7      NaN   적합  2020-06-10  \n",
       "2         4.379         5.4      NaN   적합  2020-06-10  \n",
       "3         3.488         5.0      NaN   적합  2020-06-10  \n",
       "4         3.049         4.5      NaN   적합  2020-06-10  \n",
       "5         7.607         3.7      NaN   적합  2020-06-10  \n",
       "6         5.688         2.5      NaN   적합  2020-06-10  \n",
       "7         8.864         2.8      NaN   적합  2020-06-10  \n",
       "8         4.728         3.0      NaN   적합  2020-06-10  \n",
       "9         5.134         2.5      NaN   적합  2020-06-10  \n",
       "10        4.613         2.3      NaN   적합  2020-06-10  \n",
       "11        4.467         4.5      NaN   적합  2020-06-10  \n",
       "12        3.209         3.5      NaN   적합  2020-06-10  \n",
       "13        5.379         3.1      NaN   적합  2020-06-10  \n",
       "14        4.020         3.4      NaN   적합  2020-06-10  \n",
       "15        6.735         1.6      NaN   적합  2020-06-10  \n",
       "16        6.179         1.6      NaN   적합  2020-06-10  \n",
       "17        3.583         1.5      NaN   적합  2020-06-10  \n",
       "18        3.952         1.4      NaN   적합  2020-06-10  \n",
       "19        2.786         2.7      NaN   적합  2020-06-10  \n",
       "20        2.073         2.7      NaN   적합  2020-06-10  >"
      ]
     },
     "execution_count": 7,
     "metadata": {},
     "output_type": "execute_result"
    }
   ],
   "source": [
    "df.head"
   ]
  },
  {
   "cell_type": "code",
   "execution_count": 8,
   "metadata": {},
   "outputs": [
    {
     "name": "stdout",
     "output_type": "stream",
     "text": [
      "<class 'pandas.core.frame.DataFrame'>\n",
      "RangeIndex: 21 entries, 0 to 20\n",
      "Data columns (total 10 columns):\n",
      "주차장명           21 non-null object\n",
      "주소             21 non-null object\n",
      "규모(㎡)          21 non-null object\n",
      "미세먼지(㎍/㎡)      21 non-null float64\n",
      "이산화탄소(ppm)     21 non-null int64\n",
      "포름알데히드(㎍/㎡)    21 non-null float64\n",
      "일산화탄소(ppm)     21 non-null float64\n",
      "오존(ppm)        0 non-null float64\n",
      "측정결과           21 non-null object\n",
      "데이터기준날짜        21 non-null object\n",
      "dtypes: float64(4), int64(1), object(5)\n",
      "memory usage: 1.8+ KB\n"
     ]
    }
   ],
   "source": [
    "df.info()"
   ]
  },
  {
   "cell_type": "code",
   "execution_count": 9,
   "metadata": {},
   "outputs": [
    {
     "data": {
      "text/plain": [
       "Index(['주차장명', '주소', '규모(㎡)', '미세먼지(㎍/㎡)', '이산화탄소(ppm)', '포름알데히드(㎍/㎡)',\n",
       "       '일산화탄소(ppm)', '오존(ppm)', '측정결과', '데이터기준날짜 '],\n",
       "      dtype='object')"
      ]
     },
     "execution_count": 9,
     "metadata": {},
     "output_type": "execute_result"
    }
   ],
   "source": [
    "df.columns"
   ]
  },
  {
   "cell_type": "code",
   "execution_count": 11,
   "metadata": {},
   "outputs": [
    {
     "data": {
      "text/plain": [
       "주차장명            0\n",
       "주소              0\n",
       "규모(㎡)           0\n",
       "미세먼지(㎍/㎡)       0\n",
       "이산화탄소(ppm)      0\n",
       "포름알데히드(㎍/㎡)     0\n",
       "일산화탄소(ppm)      0\n",
       "오존(ppm)        21\n",
       "측정결과            0\n",
       "데이터기준날짜         0\n",
       "dtype: int64"
      ]
     },
     "execution_count": 11,
     "metadata": {},
     "output_type": "execute_result"
    }
   ],
   "source": [
    "df.isnull().sum()"
   ]
  },
  {
   "cell_type": "code",
   "execution_count": 13,
   "metadata": {},
   "outputs": [
    {
     "data": {
      "text/plain": [
       "<matplotlib.axes._subplots.AxesSubplot at 0x23569bf5648>"
      ]
     },
     "execution_count": 13,
     "metadata": {},
     "output_type": "execute_result"
    },
    {
     "data": {
      "image/png": "[encoded data removed]",
      "text/plain": [
       "<Figure size 432x288 with 1 Axes>"
      ]
     },
     "metadata": {
      "needs_background": "light"
     },
     "output_type": "display_data"
    }
   ],
   "source": [
    "df.isnull().sum().plot.barh()"
   ]
  },
  {
   "cell_type": "code",
   "execution_count": 14,
   "metadata": {},
   "outputs": [
    {
     "data": {
      "text/plain": [
       "0    NaN\n",
       "1    NaN\n",
       "2    NaN\n",
       "3    NaN\n",
       "4    NaN\n",
       "5    NaN\n",
       "6    NaN\n",
       "7    NaN\n",
       "8    NaN\n",
       "9    NaN\n",
       "10   NaN\n",
       "11   NaN\n",
       "12   NaN\n",
       "13   NaN\n",
       "14   NaN\n",
       "15   NaN\n",
       "16   NaN\n",
       "17   NaN\n",
       "18   NaN\n",
       "19   NaN\n",
       "20   NaN\n",
       "Name: 오존(ppm), dtype: float64"
      ]
     },
     "execution_count": 14,
     "metadata": {},
     "output_type": "execute_result"
    }
   ],
   "source": [
    "df[\"오존(ppm)\"]"
   ]
  },
  {
   "cell_type": "code",
   "execution_count": 15,
   "metadata": {},
   "outputs": [],
   "source": [
    "df = df.drop(\"오존(ppm)\", axis=1)"
   ]
  },
  {
   "cell_type": "code",
   "execution_count": 16,
   "metadata": {},
   "outputs": [
    {
     "data": {
      "text/plain": [
       "(21, 9)"
      ]
     },
     "execution_count": 16,
     "metadata": {},
     "output_type": "execute_result"
    }
   ],
   "source": [
    "df.shape"
   ]
  },
  {
   "cell_type": "code",
   "execution_count": 20,
   "metadata": {},
   "outputs": [
    {
     "data": {
      "text/plain": [
       "49.9    2\n",
       "52.1    1\n",
       "48.3    1\n",
       "64.5    1\n",
       "51.5    1\n",
       "45.3    1\n",
       "34.1    1\n",
       "64.4    1\n",
       "34.6    1\n",
       "39.7    1\n",
       "46.9    1\n",
       "53.2    1\n",
       "47.6    1\n",
       "48.9    1\n",
       "43.3    1\n",
       "60.2    1\n",
       "31.3    1\n",
       "55.9    1\n",
       "61.8    1\n",
       "52.0    1\n",
       "Name: 미세먼지(㎍/㎡), dtype: int64"
      ]
     },
     "execution_count": 20,
     "metadata": {},
     "output_type": "execute_result"
    }
   ],
   "source": [
    "df[\"미세먼지(㎍/㎡)\"].value_counts()"
   ]
  },
  {
   "cell_type": "code",
   "execution_count": 22,
   "metadata": {},
   "outputs": [
    {
     "data": {
      "text/plain": [
       "규모(㎡)\n",
       "10809.84    3\n",
       "2,571.83    2\n",
       "2073.96     2\n",
       "2620.17     2\n",
       "3,393       2\n",
       "3520        2\n",
       "3550        2\n",
       "4105.6      2\n",
       "5302.71     2\n",
       "9165.68     2\n",
       "Name: 미세먼지(㎍/㎡), dtype: int64"
      ]
     },
     "execution_count": 22,
     "metadata": {},
     "output_type": "execute_result"
    }
   ],
   "source": [
    "df.groupby([\"규모(㎡)\"])[\"미세먼지(㎍/㎡)\"].count()"
   ]
  },
  {
   "cell_type": "code",
   "execution_count": 24,
   "metadata": {},
   "outputs": [
    {
     "data": {
      "text/html": [
       "<div>\n",
       "<style scoped>\n",
       "    .dataframe tbody tr th:only-of-type {\n",
       "        vertical-align: middle;\n",
       "    }\n",
       "\n",
       "    .dataframe tbody tr th {\n",
       "        vertical-align: top;\n",
       "    }\n",
       "\n",
       "    .dataframe thead tr th {\n",
       "        text-align: left;\n",
       "    }\n",
       "\n",
       "    .dataframe thead tr:last-of-type th {\n",
       "        text-align: right;\n",
       "    }\n",
       "</style>\n",
       "<table border=\"1\" class=\"dataframe\">\n",
       "  <thead>\n",
       "    <tr>\n",
       "      <th></th>\n",
       "      <th>mean</th>\n",
       "      <th>median</th>\n",
       "    </tr>\n",
       "    <tr>\n",
       "      <th></th>\n",
       "      <th>이산화탄소(ppm)</th>\n",
       "      <th>이산화탄소(ppm)</th>\n",
       "    </tr>\n",
       "    <tr>\n",
       "      <th>규모(㎡)</th>\n",
       "      <th></th>\n",
       "      <th></th>\n",
       "    </tr>\n",
       "  </thead>\n",
       "  <tbody>\n",
       "    <tr>\n",
       "      <td>10809.84</td>\n",
       "      <td>498.666667</td>\n",
       "      <td>501.0</td>\n",
       "    </tr>\n",
       "    <tr>\n",
       "      <td>2,571.83</td>\n",
       "      <td>428.000000</td>\n",
       "      <td>428.0</td>\n",
       "    </tr>\n",
       "    <tr>\n",
       "      <td>2073.96</td>\n",
       "      <td>476.500000</td>\n",
       "      <td>476.5</td>\n",
       "    </tr>\n",
       "    <tr>\n",
       "      <td>2620.17</td>\n",
       "      <td>536.000000</td>\n",
       "      <td>536.0</td>\n",
       "    </tr>\n",
       "    <tr>\n",
       "      <td>3,393</td>\n",
       "      <td>572.500000</td>\n",
       "      <td>572.5</td>\n",
       "    </tr>\n",
       "    <tr>\n",
       "      <td>3520</td>\n",
       "      <td>473.000000</td>\n",
       "      <td>473.0</td>\n",
       "    </tr>\n",
       "    <tr>\n",
       "      <td>3550</td>\n",
       "      <td>503.500000</td>\n",
       "      <td>503.5</td>\n",
       "    </tr>\n",
       "    <tr>\n",
       "      <td>4105.6</td>\n",
       "      <td>491.500000</td>\n",
       "      <td>491.5</td>\n",
       "    </tr>\n",
       "    <tr>\n",
       "      <td>5302.71</td>\n",
       "      <td>460.000000</td>\n",
       "      <td>460.0</td>\n",
       "    </tr>\n",
       "    <tr>\n",
       "      <td>9165.68</td>\n",
       "      <td>513.000000</td>\n",
       "      <td>513.0</td>\n",
       "    </tr>\n",
       "  </tbody>\n",
       "</table>\n",
       "</div>"
      ],
      "text/plain": [
       "                mean     median\n",
       "          이산화탄소(ppm) 이산화탄소(ppm)\n",
       "규모(㎡)                          \n",
       "10809.84  498.666667      501.0\n",
       "2,571.83  428.000000      428.0\n",
       "2073.96   476.500000      476.5\n",
       "2620.17   536.000000      536.0\n",
       "3,393     572.500000      572.5\n",
       "3520      473.000000      473.0\n",
       "3550      503.500000      503.5\n",
       "4105.6    491.500000      491.5\n",
       "5302.71   460.000000      460.0\n",
       "9165.68   513.000000      513.0"
      ]
     },
     "execution_count": 24,
     "metadata": {},
     "output_type": "execute_result"
    }
   ],
   "source": [
    "df.pivot_table(index=\"규모(㎡)\", values=\"이산화탄소(ppm)\", aggfunc=[\"mean\", \"median\"])"
   ]
  },
  {
   "cell_type": "code",
   "execution_count": 26,
   "metadata": {},
   "outputs": [
    {
     "data": {
      "text/html": [
       "<div>\n",
       "<style scoped>\n",
       "    .dataframe tbody tr th:only-of-type {\n",
       "        vertical-align: middle;\n",
       "    }\n",
       "\n",
       "    .dataframe tbody tr th {\n",
       "        vertical-align: top;\n",
       "    }\n",
       "\n",
       "    .dataframe thead th {\n",
       "        text-align: right;\n",
       "    }\n",
       "</style>\n",
       "<table border=\"1\" class=\"dataframe\">\n",
       "  <thead>\n",
       "    <tr style=\"text-align: right;\">\n",
       "      <th></th>\n",
       "      <th>25%</th>\n",
       "      <th>50%</th>\n",
       "      <th>75%</th>\n",
       "      <th>count</th>\n",
       "      <th>max</th>\n",
       "      <th>mean</th>\n",
       "      <th>min</th>\n",
       "      <th>std</th>\n",
       "    </tr>\n",
       "    <tr>\n",
       "      <th>규모(㎡)</th>\n",
       "      <th></th>\n",
       "      <th></th>\n",
       "      <th></th>\n",
       "      <th></th>\n",
       "      <th></th>\n",
       "      <th></th>\n",
       "      <th></th>\n",
       "      <th></th>\n",
       "    </tr>\n",
       "  </thead>\n",
       "  <tbody>\n",
       "    <tr>\n",
       "      <td>10809.84</td>\n",
       "      <td>475.50</td>\n",
       "      <td>501.0</td>\n",
       "      <td>523.00</td>\n",
       "      <td>3.0</td>\n",
       "      <td>545.0</td>\n",
       "      <td>498.666667</td>\n",
       "      <td>450.0</td>\n",
       "      <td>47.542963</td>\n",
       "    </tr>\n",
       "    <tr>\n",
       "      <td>2,571.83</td>\n",
       "      <td>421.50</td>\n",
       "      <td>428.0</td>\n",
       "      <td>434.50</td>\n",
       "      <td>2.0</td>\n",
       "      <td>441.0</td>\n",
       "      <td>428.000000</td>\n",
       "      <td>415.0</td>\n",
       "      <td>18.384776</td>\n",
       "    </tr>\n",
       "    <tr>\n",
       "      <td>2073.96</td>\n",
       "      <td>465.25</td>\n",
       "      <td>476.5</td>\n",
       "      <td>487.75</td>\n",
       "      <td>2.0</td>\n",
       "      <td>499.0</td>\n",
       "      <td>476.500000</td>\n",
       "      <td>454.0</td>\n",
       "      <td>31.819805</td>\n",
       "    </tr>\n",
       "    <tr>\n",
       "      <td>2620.17</td>\n",
       "      <td>514.00</td>\n",
       "      <td>536.0</td>\n",
       "      <td>558.00</td>\n",
       "      <td>2.0</td>\n",
       "      <td>580.0</td>\n",
       "      <td>536.000000</td>\n",
       "      <td>492.0</td>\n",
       "      <td>62.225397</td>\n",
       "    </tr>\n",
       "    <tr>\n",
       "      <td>3,393</td>\n",
       "      <td>566.25</td>\n",
       "      <td>572.5</td>\n",
       "      <td>578.75</td>\n",
       "      <td>2.0</td>\n",
       "      <td>585.0</td>\n",
       "      <td>572.500000</td>\n",
       "      <td>560.0</td>\n",
       "      <td>17.677670</td>\n",
       "    </tr>\n",
       "    <tr>\n",
       "      <td>3520</td>\n",
       "      <td>461.50</td>\n",
       "      <td>473.0</td>\n",
       "      <td>484.50</td>\n",
       "      <td>2.0</td>\n",
       "      <td>496.0</td>\n",
       "      <td>473.000000</td>\n",
       "      <td>450.0</td>\n",
       "      <td>32.526912</td>\n",
       "    </tr>\n",
       "    <tr>\n",
       "      <td>3550</td>\n",
       "      <td>498.75</td>\n",
       "      <td>503.5</td>\n",
       "      <td>508.25</td>\n",
       "      <td>2.0</td>\n",
       "      <td>513.0</td>\n",
       "      <td>503.500000</td>\n",
       "      <td>494.0</td>\n",
       "      <td>13.435029</td>\n",
       "    </tr>\n",
       "    <tr>\n",
       "      <td>4105.6</td>\n",
       "      <td>486.75</td>\n",
       "      <td>491.5</td>\n",
       "      <td>496.25</td>\n",
       "      <td>2.0</td>\n",
       "      <td>501.0</td>\n",
       "      <td>491.500000</td>\n",
       "      <td>482.0</td>\n",
       "      <td>13.435029</td>\n",
       "    </tr>\n",
       "    <tr>\n",
       "      <td>5302.71</td>\n",
       "      <td>459.00</td>\n",
       "      <td>460.0</td>\n",
       "      <td>461.00</td>\n",
       "      <td>2.0</td>\n",
       "      <td>462.0</td>\n",
       "      <td>460.000000</td>\n",
       "      <td>458.0</td>\n",
       "      <td>2.828427</td>\n",
       "    </tr>\n",
       "    <tr>\n",
       "      <td>9165.68</td>\n",
       "      <td>491.00</td>\n",
       "      <td>513.0</td>\n",
       "      <td>535.00</td>\n",
       "      <td>2.0</td>\n",
       "      <td>557.0</td>\n",
       "      <td>513.000000</td>\n",
       "      <td>469.0</td>\n",
       "      <td>62.225397</td>\n",
       "    </tr>\n",
       "  </tbody>\n",
       "</table>\n",
       "</div>"
      ],
      "text/plain": [
       "             25%    50%     75%  count    max        mean    min        std\n",
       "규모(㎡)                                                                      \n",
       "10809.84  475.50  501.0  523.00    3.0  545.0  498.666667  450.0  47.542963\n",
       "2,571.83  421.50  428.0  434.50    2.0  441.0  428.000000  415.0  18.384776\n",
       "2073.96   465.25  476.5  487.75    2.0  499.0  476.500000  454.0  31.819805\n",
       "2620.17   514.00  536.0  558.00    2.0  580.0  536.000000  492.0  62.225397\n",
       "3,393     566.25  572.5  578.75    2.0  585.0  572.500000  560.0  17.677670\n",
       "3520      461.50  473.0  484.50    2.0  496.0  473.000000  450.0  32.526912\n",
       "3550      498.75  503.5  508.25    2.0  513.0  503.500000  494.0  13.435029\n",
       "4105.6    486.75  491.5  496.25    2.0  501.0  491.500000  482.0  13.435029\n",
       "5302.71   459.00  460.0  461.00    2.0  462.0  460.000000  458.0   2.828427\n",
       "9165.68   491.00  513.0  535.00    2.0  557.0  513.000000  469.0  62.225397"
      ]
     },
     "execution_count": 26,
     "metadata": {},
     "output_type": "execute_result"
    }
   ],
   "source": [
    "df.pivot_table(index=\"규모(㎡)\", values=\"이산화탄소(ppm)\", aggfunc=\"describe\")"
   ]
  },
  {
   "cell_type": "code",
   "execution_count": 28,
   "metadata": {},
   "outputs": [
    {
     "data": {
      "text/plain": [
       "array([[<matplotlib.axes._subplots.AxesSubplot object at 0x000002356C256108>,\n",
       "        <matplotlib.axes._subplots.AxesSubplot object at 0x000002356C3B2248>],\n",
       "       [<matplotlib.axes._subplots.AxesSubplot object at 0x000002356C494AC8>,\n",
       "        <matplotlib.axes._subplots.AxesSubplot object at 0x000002356C50E388>]],\n",
       "      dtype=object)"
      ]
     },
     "execution_count": 28,
     "metadata": {},
     "output_type": "execute_result"
    },
    {
     "data": {
      "image/png": "[encoded data removed]",
      "text/plain": [
       "<Figure size 432x288 with 4 Axes>"
      ]
     },
     "metadata": {
      "needs_background": "light"
     },
     "output_type": "display_data"
    }
   ],
   "source": [
    "df.hist()"
   ]
  },
  {
   "cell_type": "code",
   "execution_count": 29,
   "metadata": {},
   "outputs": [
    {
     "data": {
      "text/plain": [
       "<matplotlib.axes._subplots.AxesSubplot at 0x2356c8ab5c8>"
      ]
     },
     "execution_count": 29,
     "metadata": {},
     "output_type": "execute_result"
    },
    {
     "data": {
      "image/png": "[encoded data removed]",
      "text/plain": [
       "<Figure size 432x288 with 1 Axes>"
      ]
     },
     "metadata": {
      "needs_background": "light"
     },
     "output_type": "display_data"
    }
   ],
   "source": [
    "sns.countplot(data=df, x=\"규모(㎡)\")"
   ]
  },
  {
   "cell_type": "code",
   "execution_count": 30,
   "metadata": {},
   "outputs": [
    {
     "data": {
      "text/plain": [
       "<matplotlib.axes._subplots.AxesSubplot at 0x2356c856088>"
      ]
     },
     "execution_count": 30,
     "metadata": {},
     "output_type": "execute_result"
    },
    {
     "data": {
      "image/png": "[encoded data removed]",
      "text/plain": [
       "<Figure size 432x288 with 1 Axes>"
      ]
     },
     "metadata": {
      "needs_background": "light"
     },
     "output_type": "display_data"
    }
   ],
   "source": [
    "sns.scatterplot(data=df, x=\"규모(㎡)\", y=\"이산화탄소(ppm)\" )"
   ]
  },
  {
   "cell_type": "code",
   "execution_count": 31,
   "metadata": {},
   "outputs": [
    {
     "data": {
      "text/plain": [
       "<matplotlib.axes._subplots.AxesSubplot at 0x2356c275448>"
      ]
     },
     "execution_count": 31,
     "metadata": {},
     "output_type": "execute_result"
    },
    {
     "data": {
      "image/png": "[encoded data removed]",
      "text/plain": [
       "<Figure size 432x288 with 1 Axes>"
      ]
     },
     "metadata": {
      "needs_background": "light"
     },
     "output_type": "display_data"
    }
   ],
   "source": [
    "sns.scatterplot(data=df, x=\"미세먼지(㎍/㎡)\", y=\"이산화탄소(ppm)\" )"
   ]
  },
  {
   "cell_type": "code",
   "execution_count": 32,
   "metadata": {},
   "outputs": [
    {
     "data": {
      "text/plain": [
       "<seaborn.axisgrid.FacetGrid at 0x2356c611188>"
      ]
     },
     "execution_count": 32,
     "metadata": {},
     "output_type": "execute_result"
    },
    {
     "data": {
      "image/png": "[encoded data removed]",
      "text/plain": [
       "<Figure size 360x360 with 1 Axes>"
      ]
     },
     "metadata": {
      "needs_background": "light"
     },
     "output_type": "display_data"
    }
   ],
   "source": [
    "sns.lmplot(data=df, x=\"미세먼지(㎍/㎡)\", y=\"이산화탄소(ppm)\")"
   ]
  },
  {
   "cell_type": "code",
   "execution_count": 33,
   "metadata": {},
   "outputs": [
    {
     "data": {
      "text/plain": [
       "<seaborn.axisgrid.FacetGrid at 0x2356c6ae048>"
      ]
     },
     "execution_count": 33,
     "metadata": {},
     "output_type": "execute_result"
    },
    {
     "data": {
      "image/png": "[encoded data removed]",
      "text/plain": [
       "<Figure size 360x360 with 1 Axes>"
      ]
     },
     "metadata": {
      "needs_background": "light"
     },
     "output_type": "display_data"
    }
   ],
   "source": [
    "sns.lmplot(data=df, x=\"이산화탄소(ppm)\", y=\"포름알데히드(㎍/㎡)\")"
   ]
  },
  {
   "cell_type": "code",
   "execution_count": 34,
   "metadata": {},
   "outputs": [
    {
     "data": {
      "text/plain": [
       "<seaborn.axisgrid.FacetGrid at 0x2356c704308>"
      ]
     },
     "execution_count": 34,
     "metadata": {},
     "output_type": "execute_result"
    },
    {
     "data": {
      "image/png": "[encoded data removed]",
      "text/plain": [
       "<Figure size 360x360 with 1 Axes>"
      ]
     },
     "metadata": {
      "needs_background": "light"
     },
     "output_type": "display_data"
    }
   ],
   "source": [
    "sns.lmplot(data=df, x=\"이산화탄소(ppm)\", y=\"일산화탄소(ppm)\")"
   ]
  },
  {
   "cell_type": "code",
   "execution_count": 35,
   "metadata": {},
   "outputs": [
    {
     "data": {
      "text/plain": [
       "<matplotlib.axes._subplots.AxesSubplot at 0x2356cc489c8>"
      ]
     },
     "execution_count": 35,
     "metadata": {},
     "output_type": "execute_result"
    },
    {
     "data": {
      "image/png": "[encoded data removed]",
      "text/plain": [
       "<Figure size 432x288 with 1 Axes>"
      ]
     },
     "metadata": {
      "needs_background": "light"
     },
     "output_type": "display_data"
    }
   ],
   "source": [
    "sns.distplot(df[\"일산화탄소(ppm)\"])"
   ]
  },
  {
   "cell_type": "code",
   "execution_count": 36,
   "metadata": {},
   "outputs": [
    {
     "data": {
      "text/html": [
       "<div>\n",
       "<style scoped>\n",
       "    .dataframe tbody tr th:only-of-type {\n",
       "        vertical-align: middle;\n",
       "    }\n",
       "\n",
       "    .dataframe tbody tr th {\n",
       "        vertical-align: top;\n",
       "    }\n",
       "\n",
       "    .dataframe thead th {\n",
       "        text-align: right;\n",
       "    }\n",
       "</style>\n",
       "<table border=\"1\" class=\"dataframe\">\n",
       "  <thead>\n",
       "    <tr style=\"text-align: right;\">\n",
       "      <th></th>\n",
       "      <th>미세먼지(㎍/㎡)</th>\n",
       "      <th>이산화탄소(ppm)</th>\n",
       "      <th>포름알데히드(㎍/㎡)</th>\n",
       "      <th>일산화탄소(ppm)</th>\n",
       "    </tr>\n",
       "  </thead>\n",
       "  <tbody>\n",
       "    <tr>\n",
       "      <td>미세먼지(㎍/㎡)</td>\n",
       "      <td>1.000000</td>\n",
       "      <td>0.302429</td>\n",
       "      <td>0.012051</td>\n",
       "      <td>0.015338</td>\n",
       "    </tr>\n",
       "    <tr>\n",
       "      <td>이산화탄소(ppm)</td>\n",
       "      <td>0.302429</td>\n",
       "      <td>1.000000</td>\n",
       "      <td>0.151371</td>\n",
       "      <td>0.063017</td>\n",
       "    </tr>\n",
       "    <tr>\n",
       "      <td>포름알데히드(㎍/㎡)</td>\n",
       "      <td>0.012051</td>\n",
       "      <td>0.151371</td>\n",
       "      <td>1.000000</td>\n",
       "      <td>-0.228636</td>\n",
       "    </tr>\n",
       "    <tr>\n",
       "      <td>일산화탄소(ppm)</td>\n",
       "      <td>0.015338</td>\n",
       "      <td>0.063017</td>\n",
       "      <td>-0.228636</td>\n",
       "      <td>1.000000</td>\n",
       "    </tr>\n",
       "  </tbody>\n",
       "</table>\n",
       "</div>"
      ],
      "text/plain": [
       "             미세먼지(㎍/㎡)  이산화탄소(ppm)  포름알데히드(㎍/㎡)  일산화탄소(ppm)\n",
       "미세먼지(㎍/㎡)     1.000000    0.302429     0.012051    0.015338\n",
       "이산화탄소(ppm)    0.302429    1.000000     0.151371    0.063017\n",
       "포름알데히드(㎍/㎡)   0.012051    0.151371     1.000000   -0.228636\n",
       "일산화탄소(ppm)    0.015338    0.063017    -0.228636    1.000000"
      ]
     },
     "execution_count": 36,
     "metadata": {},
     "output_type": "execute_result"
    }
   ],
   "source": [
    "df_corr = df.corr()\n",
    "df_corr"
   ]
  },
  {
   "cell_type": "code",
   "execution_count": 37,
   "metadata": {},
   "outputs": [
    {
     "data": {
      "text/plain": [
       "포름알데히드(㎍/㎡)   -0.228636\n",
       "미세먼지(㎍/㎡)      0.015338\n",
       "이산화탄소(ppm)     0.063017\n",
       "일산화탄소(ppm)     1.000000\n",
       "Name: 일산화탄소(ppm), dtype: float64"
      ]
     },
     "execution_count": 37,
     "metadata": {},
     "output_type": "execute_result"
    }
   ],
   "source": [
    "df_corr[\"일산화탄소(ppm)\"].sort_values()"
   ]
  },
  {
   "cell_type": "code",
   "execution_count": 44,
   "metadata": {},
   "outputs": [
    {
     "data": {
      "text/plain": [
       "<matplotlib.axes._subplots.AxesSubplot at 0x2356d7bbb08>"
      ]
     },
     "execution_count": 44,
     "metadata": {},
     "output_type": "execute_result"
    },
    {
     "data": {
      "image/png": "[encoded data removed]",
      "text/plain": [
       "<Figure size 720x504 with 2 Axes>"
      ]
     },
     "metadata": {
      "needs_background": "light"
     },
     "output_type": "display_data"
    }
   ],
   "source": [
    "plt.figure(figsize=(10,7))\n",
    "sns.heatmap(df_corr, annot=True, fmt=\".2f\", cmap=\"Reds\")"
   ]
  },
  {
   "cell_type": "code",
   "execution_count": 46,
   "metadata": {},
   "outputs": [
    {
     "data": {
      "text/plain": [
       "<matplotlib.axes._subplots.AxesSubplot at 0x2356ee3d548>"
      ]
     },
     "execution_count": 46,
     "metadata": {},
     "output_type": "execute_result"
    },
    {
     "data": {
      "image/png": "[encoded data removed]",
      "text/plain": [
       "<Figure size 720x504 with 2 Axes>"
      ]
     },
     "metadata": {
      "needs_background": "light"
     },
     "output_type": "display_data"
    }
   ],
   "source": [
    "mask = np.triu(np.ones_like(df_corr, dtype=np.bool))\n",
    "mask\n",
    "\n",
    "plt.figure(figsize=(10,7))\n",
    "sns.heatmap(df_corr, annot=True, fmt=\".2f\", cmap=\"Reds\", mask=mask)"
   ]
  },
  {
   "cell_type": "code",
   "execution_count": null,
   "metadata": {},
   "outputs": [],
   "source": []
  }
 ],
 "metadata": {
  "kernelspec": {
   "display_name": "Python 3",
   "language": "python",
   "name": "python3"
  },
  "language_info": {
   "codemirror_mode": {
    "name": "ipython",
    "version": 3
   },
   "file_extension": ".py",
   "mimetype": "text/x-python",
   "name": "python",
   "nbconvert_exporter": "python",
   "pygments_lexer": "ipython3",
   "version": "3.7.4"
  },
  "toc": {
   "base_numbering": 1,
   "nav_menu": {},
   "number_sections": true,
   "sideBar": true,
   "skip_h1_title": false,
   "title_cell": "Table of Contents",
   "title_sidebar": "Contents",
   "toc_cell": false,
   "toc_position": {},
   "toc_section_display": true,
   "toc_window_display": false
  }
 },
 "nbformat": 4,
 "nbformat_minor": 2
}
