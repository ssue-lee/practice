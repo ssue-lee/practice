{
 "cells": [
  {
   "cell_type": "code",
   "execution_count": 1,
   "metadata": {},
   "outputs": [],
   "source": [
    "## 타이타닉\n",
    "# -*- coding: utf-9 -*-"
   ]
  },
  {
   "cell_type": "code",
   "execution_count": 2,
   "metadata": {},
   "outputs": [],
   "source": [
    "%matplotlib inline\n",
    "\n",
    "import pandas as pd\n",
    "import numpy as np\n",
    "import matplotlib.pyplot as plt\n",
    "import seaborn as sns\n",
    "\n",
    "df_train = pd.read_csv(\"C:/Users/ssuki/Desktop/workplace/python-data-analysis-master/data/titanic_train.csv\")"
   ]
  },
  {
   "cell_type": "code",
   "execution_count": 3,
   "metadata": {},
   "outputs": [
    {
     "data": {
      "text/html": [
       "<div>\n",
       "<style scoped>\n",
       "    .dataframe tbody tr th:only-of-type {\n",
       "        vertical-align: middle;\n",
       "    }\n",
       "\n",
       "    .dataframe tbody tr th {\n",
       "        vertical-align: top;\n",
       "    }\n",
       "\n",
       "    .dataframe thead th {\n",
       "        text-align: right;\n",
       "    }\n",
       "</style>\n",
       "<table border=\"1\" class=\"dataframe\">\n",
       "  <thead>\n",
       "    <tr style=\"text-align: right;\">\n",
       "      <th></th>\n",
       "      <th>pclass</th>\n",
       "      <th>survived</th>\n",
       "      <th>name</th>\n",
       "      <th>sex</th>\n",
       "      <th>age</th>\n",
       "      <th>sibsp</th>\n",
       "      <th>parch</th>\n",
       "      <th>ticket</th>\n",
       "      <th>fare</th>\n",
       "      <th>cabin</th>\n",
       "      <th>embarked</th>\n",
       "      <th>body</th>\n",
       "      <th>home.dest</th>\n",
       "    </tr>\n",
       "  </thead>\n",
       "  <tbody>\n",
       "    <tr>\n",
       "      <td>0</td>\n",
       "      <td>2</td>\n",
       "      <td>1</td>\n",
       "      <td>Mellinger, Miss. Madeleine Violet</td>\n",
       "      <td>female</td>\n",
       "      <td>13.0</td>\n",
       "      <td>0</td>\n",
       "      <td>1</td>\n",
       "      <td>250644</td>\n",
       "      <td>19.5000</td>\n",
       "      <td>NaN</td>\n",
       "      <td>S</td>\n",
       "      <td>NaN</td>\n",
       "      <td>England / Bennington, VT</td>\n",
       "    </tr>\n",
       "    <tr>\n",
       "      <td>1</td>\n",
       "      <td>2</td>\n",
       "      <td>1</td>\n",
       "      <td>Wells, Miss. Joan</td>\n",
       "      <td>female</td>\n",
       "      <td>4.0</td>\n",
       "      <td>1</td>\n",
       "      <td>1</td>\n",
       "      <td>29103</td>\n",
       "      <td>23.0000</td>\n",
       "      <td>NaN</td>\n",
       "      <td>S</td>\n",
       "      <td>NaN</td>\n",
       "      <td>Cornwall / Akron, OH</td>\n",
       "    </tr>\n",
       "    <tr>\n",
       "      <td>2</td>\n",
       "      <td>2</td>\n",
       "      <td>1</td>\n",
       "      <td>Duran y More, Miss. Florentina</td>\n",
       "      <td>female</td>\n",
       "      <td>30.0</td>\n",
       "      <td>1</td>\n",
       "      <td>0</td>\n",
       "      <td>SC/PARIS 2148</td>\n",
       "      <td>13.8583</td>\n",
       "      <td>NaN</td>\n",
       "      <td>C</td>\n",
       "      <td>NaN</td>\n",
       "      <td>Barcelona, Spain / Havana, Cuba</td>\n",
       "    </tr>\n",
       "    <tr>\n",
       "      <td>3</td>\n",
       "      <td>3</td>\n",
       "      <td>0</td>\n",
       "      <td>Scanlan, Mr. James</td>\n",
       "      <td>male</td>\n",
       "      <td>NaN</td>\n",
       "      <td>0</td>\n",
       "      <td>0</td>\n",
       "      <td>36209</td>\n",
       "      <td>7.7250</td>\n",
       "      <td>NaN</td>\n",
       "      <td>Q</td>\n",
       "      <td>NaN</td>\n",
       "      <td>NaN</td>\n",
       "    </tr>\n",
       "    <tr>\n",
       "      <td>4</td>\n",
       "      <td>3</td>\n",
       "      <td>1</td>\n",
       "      <td>Bradley, Miss. Bridget Delia</td>\n",
       "      <td>female</td>\n",
       "      <td>22.0</td>\n",
       "      <td>0</td>\n",
       "      <td>0</td>\n",
       "      <td>334914</td>\n",
       "      <td>7.7250</td>\n",
       "      <td>NaN</td>\n",
       "      <td>Q</td>\n",
       "      <td>NaN</td>\n",
       "      <td>Kingwilliamstown, Co Cork, Ireland Glens Falls...</td>\n",
       "    </tr>\n",
       "  </tbody>\n",
       "</table>\n",
       "</div>"
      ],
      "text/plain": [
       "   pclass  survived                               name     sex   age  sibsp  \\\n",
       "0       2         1  Mellinger, Miss. Madeleine Violet  female  13.0      0   \n",
       "1       2         1                  Wells, Miss. Joan  female   4.0      1   \n",
       "2       2         1     Duran y More, Miss. Florentina  female  30.0      1   \n",
       "3       3         0                 Scanlan, Mr. James    male   NaN      0   \n",
       "4       3         1       Bradley, Miss. Bridget Delia  female  22.0      0   \n",
       "\n",
       "   parch         ticket     fare cabin embarked  body  \\\n",
       "0      1         250644  19.5000   NaN        S   NaN   \n",
       "1      1          29103  23.0000   NaN        S   NaN   \n",
       "2      0  SC/PARIS 2148  13.8583   NaN        C   NaN   \n",
       "3      0          36209   7.7250   NaN        Q   NaN   \n",
       "4      0         334914   7.7250   NaN        Q   NaN   \n",
       "\n",
       "                                           home.dest  \n",
       "0                           England / Bennington, VT  \n",
       "1                               Cornwall / Akron, OH  \n",
       "2                    Barcelona, Spain / Havana, Cuba  \n",
       "3                                                NaN  \n",
       "4  Kingwilliamstown, Co Cork, Ireland Glens Falls...  "
      ]
     },
     "execution_count": 3,
     "metadata": {},
     "output_type": "execute_result"
    }
   ],
   "source": [
    "df_test = pd.read_csv(\"C:/Users/ssuki/Desktop/workplace/python-data-analysis-master/data/titanic_test.csv\")\n",
    "df_train.head(5)"
   ]
  },
  {
   "cell_type": "code",
   "execution_count": 4,
   "metadata": {},
   "outputs": [
    {
     "name": "stdout",
     "output_type": "stream",
     "text": [
      "<class 'pandas.core.frame.DataFrame'>\n",
      "RangeIndex: 916 entries, 0 to 915\n",
      "Data columns (total 13 columns):\n",
      "pclass       916 non-null int64\n",
      "survived     916 non-null int64\n",
      "name         916 non-null object\n",
      "sex          916 non-null object\n",
      "age          741 non-null float64\n",
      "sibsp        916 non-null int64\n",
      "parch        916 non-null int64\n",
      "ticket       916 non-null object\n",
      "fare         916 non-null float64\n",
      "cabin        214 non-null object\n",
      "embarked     914 non-null object\n",
      "body         85 non-null float64\n",
      "home.dest    527 non-null object\n",
      "dtypes: float64(3), int64(4), object(6)\n",
      "memory usage: 93.2+ KB\n",
      "None\n",
      "---------------------\n",
      "<class 'pandas.core.frame.DataFrame'>\n",
      "RangeIndex: 393 entries, 0 to 392\n",
      "Data columns (total 13 columns):\n",
      "pclass       393 non-null int64\n",
      "survived     393 non-null int64\n",
      "name         393 non-null object\n",
      "sex          393 non-null object\n",
      "age          305 non-null float64\n",
      "sibsp        393 non-null int64\n",
      "parch        393 non-null int64\n",
      "ticket       393 non-null object\n",
      "fare         393 non-null float64\n",
      "cabin        81 non-null object\n",
      "embarked     393 non-null object\n",
      "body         36 non-null float64\n",
      "home.dest    218 non-null object\n",
      "dtypes: float64(3), int64(4), object(6)\n",
      "memory usage: 40.0+ KB\n",
      "None\n"
     ]
    }
   ],
   "source": [
    "print(df_train.info())\n",
    "print('---------------------')\n",
    "print(df_test.info())"
   ]
  },
  {
   "cell_type": "code",
   "execution_count": 5,
   "metadata": {},
   "outputs": [],
   "source": [
    "# 불필요한 피처 제거하기\n",
    "\n",
    "df_train = df_train.drop(['name', 'ticket','body', 'cabin','home.dest'], axis=1)\n",
    "df_test = df_test.drop(['name', 'ticket','body', 'cabin','home.dest'], axis=1)"
   ]
  },
  {
   "cell_type": "code",
   "execution_count": 6,
   "metadata": {},
   "outputs": [
    {
     "name": "stdout",
     "output_type": "stream",
     "text": [
      "0    563\n",
      "1    353\n",
      "Name: survived, dtype: int64\n"
     ]
    },
    {
     "data": {
      "text/plain": [
       "<matplotlib.axes._subplots.AxesSubplot at 0x1ef3d229d48>"
      ]
     },
     "execution_count": 6,
     "metadata": {},
     "output_type": "execute_result"
    },
    {
     "data": {
      "image/png": "[encoded data removed]",
      "text/plain": [
       "<Figure size 432x288 with 1 Axes>"
      ]
     },
     "metadata": {
      "needs_background": "light"
     },
     "output_type": "display_data"
    }
   ],
   "source": [
    "# 탐색적 데이터 분석하기\n",
    "\n",
    "print(df_train['survived'].value_counts())\n",
    "df_train['survived'].value_counts().plot.bar()"
   ]
  },
  {
   "cell_type": "code",
   "execution_count": 10,
   "metadata": {},
   "outputs": [
    {
     "name": "stdout",
     "output_type": "stream",
     "text": [
      "3    498\n",
      "1    230\n",
      "2    188\n",
      "Name: pclass, dtype: int64\n"
     ]
    },
    {
     "data": {
      "image/png": "[encoded data removed]",
      "text/plain": [
       "<Figure size 432x288 with 1 Axes>"
      ]
     },
     "metadata": {
      "needs_background": "light"
     },
     "output_type": "display_data"
    }
   ],
   "source": [
    "## 'survived'피처를 기준으로 그룹 나누어 그룹별 'pclass' 피처의 분포\n",
    "\n",
    "print(df_train['pclass'].value_counts())\n",
    "ax = sns.countplot(x='pclass', hue='survived', data=df_train)"
   ]
  },
  {
   "cell_type": "code",
   "execution_count": 11,
   "metadata": {},
   "outputs": [],
   "source": [
    "## 변수 탐색작업 자동화하기\n",
    "\n",
    "from scipy import stats\n",
    "\n",
    "### 두 집단의 피처를 비교해주며 탐색작업을 자동화하는 함수를 정의\n",
    "def valid_features(df, col_name, distribution_check=True):\n",
    "    \n",
    "    ### 두 집단('servived') 분포 그래프 출력\n",
    "    g = sns.FacetGrid(df, col='survived')\n",
    "    g.map(plt.hist, col_name, bins=30)\n",
    "    \n",
    "    ### 두 집단의 표준편자\n",
    "    titanic_survived = df[df['survived'] == 1]\n",
    "    titanic_survived_static = np.array(titanic_survived[col_name])\n",
    "    print(\"data std is\", '%.2f' % np.std(titanic_survived_static))\n",
    "    titanic_n_survived = df[df['survived'] == 0]\n",
    "    titanic_n_survived_static = np.array(titanic_n_survived[col_name])\n",
    "    print('data std is', '%.2f' % np.std(titanic_n_survived_static))\n",
    "    \n",
    "    ### T-test로 두 집단의 평균 차이 검정\n",
    "    tTestResult = stats.ttest_ind(titanic_survived[col_name], titanic_n_survived[col_name])\n",
    "    tTestResultDiffVar = stats.ttest_ind(titanic_survived[col_name], titanic_n_survived[col_name], equal_var=False)\n",
    "    print('The t-statistic and p-value assuming equal variances is %.3f and %.3f.' % tTestResult)\n",
    "    print('The t-statistic and p-value not assuming equal variance is %.3f and %.3f' % tTestResultDiffVar )\n",
    "    \n",
    "    if distribution_check:\n",
    "        ### Shaporo-Wilk 검정 : 분포의 정규성 정도 검증\n",
    "        print('The w-statistic and p-value in Survived %.3f and %.3f' % stats.shapiro(titanic_survived[col_name]))\n",
    "        print('The w-statistic and p-value in Non-Survived %.3f and %.3f' % stats.shapiro(titanic_n_survived[col_name]))"
   ]
  },
  {
   "cell_type": "code",
   "execution_count": 12,
   "metadata": {},
   "outputs": [
    {
     "name": "stdout",
     "output_type": "stream",
     "text": [
      "data std is 14.22\n",
      "data std is 13.71\n",
      "The t-statistic and p-value assuming equal variances is -0.546 and 0.585.\n",
      "The t-statistic and p-value not assuming equal variance is -0.543 and 0.587\n",
      "The w-statistic and p-value in Survived 0.982 and 0.001\n",
      "The w-statistic and p-value in Non-Survived 0.968 and 0.000\n",
      "data std is 0.64\n",
      "data std is 1.34\n",
      "The t-statistic and p-value assuming equal variances is -2.118 and 0.034.\n",
      "The t-statistic and p-value not assuming equal variance is -2.446 and 0.015\n"
     ]
    },
    {
     "data": {
      "image/png": "[encoded data removed]",
      "text/plain": [
       "<Figure size 432x216 with 2 Axes>"
      ]
     },
     "metadata": {
      "needs_background": "light"
     },
     "output_type": "display_data"
    },
    {
     "data": {
      "image/png": "[encoded data removed]",
      "text/plain": [
       "<Figure size 432x216 with 2 Axes>"
      ]
     },
     "metadata": {
      "needs_background": "light"
     },
     "output_type": "display_data"
    }
   ],
   "source": [
    "valid_features(df_train[df_train['age'] > 0], 'age', distribution_check=True)\n",
    "valid_features(df_train, 'sibsp', distribution_check=False)"
   ]
  },
  {
   "cell_type": "code",
   "execution_count": 13,
   "metadata": {},
   "outputs": [
    {
     "name": "stdout",
     "output_type": "stream",
     "text": [
      "data std is 0.74\n",
      "data std is 0.89\n",
      "The t-statistic and p-value assuming equal variances is 1.865 and 0.063.\n",
      "The t-statistic and p-value not assuming equal variance is 1.942 and 0.052\n",
      "data std is 60.68\n",
      "data std is 33.65\n",
      "The t-statistic and p-value assuming equal variances is 7.523 and 0.000.\n",
      "The t-statistic and p-value not assuming equal variance is 6.657 and 0.000\n",
      "The w-statistic and p-value in Survived 0.660 and 0.000\n",
      "The w-statistic and p-value in Non-Survived 0.520 and 0.000\n"
     ]
    },
    {
     "data": {
      "image/png": "[encoded data removed]",
      "text/plain": [
       "<Figure size 432x216 with 2 Axes>"
      ]
     },
     "metadata": {
      "needs_background": "light"
     },
     "output_type": "display_data"
    },
    {
     "data": {
      "image/png": "[encoded data removed]",
      "text/plain": [
       "<Figure size 432x216 with 2 Axes>"
      ]
     },
     "metadata": {
      "needs_background": "light"
     },
     "output_type": "display_data"
    }
   ],
   "source": [
    "valid_features(df_train, 'parch', distribution_check=False)\n",
    "valid_features(df_train, 'fare', distribution_check=True)"
   ]
  },
  {
   "cell_type": "code",
   "execution_count": 14,
   "metadata": {},
   "outputs": [
    {
     "data": {
      "text/plain": [
       "<seaborn.axisgrid.FacetGrid at 0x1ef3db7bb48>"
      ]
     },
     "execution_count": 14,
     "metadata": {},
     "output_type": "execute_result"
    },
    {
     "data": {
      "image/png": "[encoded data removed]",
      "text/plain": [
       "<Figure size 432x216 with 2 Axes>"
      ]
     },
     "metadata": {
      "needs_background": "light"
     },
     "output_type": "display_data"
    }
   ],
   "source": [
    "g = sns.FacetGrid(df_train, col='survived')\n",
    "g.map(plt.hist, 'sex', bins=30)"
   ]
  },
  {
   "cell_type": "code",
   "execution_count": 15,
   "metadata": {},
   "outputs": [
    {
     "data": {
      "text/plain": [
       "<seaborn.axisgrid.FacetGrid at 0x1ef3dbfc388>"
      ]
     },
     "execution_count": 15,
     "metadata": {},
     "output_type": "execute_result"
    },
    {
     "data": {
      "image/png": "[encoded data removed]",
      "text/plain": [
       "<Figure size 432x216 with 2 Axes>"
      ]
     },
     "metadata": {
      "needs_background": "light"
     },
     "output_type": "display_data"
    }
   ],
   "source": [
    "g = sns.FacetGrid(df_train, col='survived')\n",
    "g.map(plt.hist, 'embarked', bins=30)"
   ]
  },
  {
   "cell_type": "code",
   "execution_count": 16,
   "metadata": {},
   "outputs": [
    {
     "data": {
      "text/html": [
       "<div>\n",
       "<style scoped>\n",
       "    .dataframe tbody tr th:only-of-type {\n",
       "        vertical-align: middle;\n",
       "    }\n",
       "\n",
       "    .dataframe tbody tr th {\n",
       "        vertical-align: top;\n",
       "    }\n",
       "\n",
       "    .dataframe thead th {\n",
       "        text-align: right;\n",
       "    }\n",
       "</style>\n",
       "<table border=\"1\" class=\"dataframe\">\n",
       "  <thead>\n",
       "    <tr style=\"text-align: right;\">\n",
       "      <th></th>\n",
       "      <th>pclass</th>\n",
       "      <th>survived</th>\n",
       "      <th>age</th>\n",
       "      <th>sibsp</th>\n",
       "      <th>parch</th>\n",
       "      <th>fare</th>\n",
       "      <th>sex_female</th>\n",
       "      <th>sex_male</th>\n",
       "      <th>embarked_C</th>\n",
       "      <th>embarked_Q</th>\n",
       "      <th>embarked_S</th>\n",
       "    </tr>\n",
       "  </thead>\n",
       "  <tbody>\n",
       "    <tr>\n",
       "      <td>0</td>\n",
       "      <td>2</td>\n",
       "      <td>1</td>\n",
       "      <td>13.000000</td>\n",
       "      <td>0</td>\n",
       "      <td>1</td>\n",
       "      <td>19.5000</td>\n",
       "      <td>1</td>\n",
       "      <td>0</td>\n",
       "      <td>0</td>\n",
       "      <td>0</td>\n",
       "      <td>1</td>\n",
       "    </tr>\n",
       "    <tr>\n",
       "      <td>1</td>\n",
       "      <td>2</td>\n",
       "      <td>1</td>\n",
       "      <td>4.000000</td>\n",
       "      <td>1</td>\n",
       "      <td>1</td>\n",
       "      <td>23.0000</td>\n",
       "      <td>1</td>\n",
       "      <td>0</td>\n",
       "      <td>0</td>\n",
       "      <td>0</td>\n",
       "      <td>1</td>\n",
       "    </tr>\n",
       "    <tr>\n",
       "      <td>2</td>\n",
       "      <td>2</td>\n",
       "      <td>1</td>\n",
       "      <td>30.000000</td>\n",
       "      <td>1</td>\n",
       "      <td>0</td>\n",
       "      <td>13.8583</td>\n",
       "      <td>1</td>\n",
       "      <td>0</td>\n",
       "      <td>1</td>\n",
       "      <td>0</td>\n",
       "      <td>0</td>\n",
       "    </tr>\n",
       "    <tr>\n",
       "      <td>3</td>\n",
       "      <td>3</td>\n",
       "      <td>0</td>\n",
       "      <td>30.231444</td>\n",
       "      <td>0</td>\n",
       "      <td>0</td>\n",
       "      <td>7.7250</td>\n",
       "      <td>0</td>\n",
       "      <td>1</td>\n",
       "      <td>0</td>\n",
       "      <td>1</td>\n",
       "      <td>0</td>\n",
       "    </tr>\n",
       "    <tr>\n",
       "      <td>4</td>\n",
       "      <td>3</td>\n",
       "      <td>1</td>\n",
       "      <td>22.000000</td>\n",
       "      <td>0</td>\n",
       "      <td>0</td>\n",
       "      <td>7.7250</td>\n",
       "      <td>1</td>\n",
       "      <td>0</td>\n",
       "      <td>0</td>\n",
       "      <td>1</td>\n",
       "      <td>0</td>\n",
       "    </tr>\n",
       "  </tbody>\n",
       "</table>\n",
       "</div>"
      ],
      "text/plain": [
       "   pclass  survived        age  sibsp  parch     fare  sex_female  sex_male  \\\n",
       "0       2         1  13.000000      0      1  19.5000           1         0   \n",
       "1       2         1   4.000000      1      1  23.0000           1         0   \n",
       "2       2         1  30.000000      1      0  13.8583           1         0   \n",
       "3       3         0  30.231444      0      0   7.7250           0         1   \n",
       "4       3         1  22.000000      0      0   7.7250           1         0   \n",
       "\n",
       "   embarked_C  embarked_Q  embarked_S  \n",
       "0           0           0           1  \n",
       "1           0           0           1  \n",
       "2           1           0           0  \n",
       "3           0           1           0  \n",
       "4           0           1           0  "
      ]
     },
     "execution_count": 16,
     "metadata": {},
     "output_type": "execute_result"
    }
   ],
   "source": [
    "# 분류 : 생존자 분류 모델 만들기\n",
    "## 분류 모델을 위해 전처리\n",
    "\n",
    "### age의 결측값을 평균걊으로 대체\n",
    "replace_mean = df_train[df_train['age'] > 0]['age'].mean()\n",
    "df_train['age'] = df_train['age'].fillna(replace_mean)\n",
    "df_test['age'] = df_test['age'].fillna(replace_mean)\n",
    "\n",
    "### embark 2개의 결측값을 최빈값으로 대체\n",
    "embarked_mode = df_train['embarked'].value_counts().index[0]\n",
    "df_train['embarked'] = df_train['embarked'].fillna(embarked_mode)\n",
    "df_test['embarked'] = df_test['embarked'].fillna(embarked_mode)\n",
    "\n",
    "### 원-핫 인코딩을 위한 통합 데이터 프레임 생성\n",
    "whole_df = df_train.append(df_test)\n",
    "train_idx_num = len(df_train)\n",
    "\n",
    "### pandas 패키지를 이용한 원-핫 인코딩 수행\n",
    "whole_df_encoded = pd.get_dummies(whole_df)\n",
    "df_train = whole_df_encoded[:train_idx_num]\n",
    "df_test = whole_df_encoded[train_idx_num:]\n",
    "\n",
    "df_train.head()"
   ]
  },
  {
   "cell_type": "code",
   "execution_count": 17,
   "metadata": {},
   "outputs": [
    {
     "name": "stderr",
     "output_type": "stream",
     "text": [
      "C:\\Users\\ssuki\\Anaconda3\\lib\\site-packages\\sklearn\\linear_model\\_logistic.py:818: ConvergenceWarning: lbfgs failed to converge (status=1):\n",
      "STOP: TOTAL NO. of ITERATIONS REACHED LIMIT.\n",
      "\n",
      "Increase the number of iterations (max_iter) or scale the data as shown in:\n",
      "    https://scikit-learn.org/stable/modules/preprocessing.html\n",
      "Please also refer to the documentation for alternative solver options:\n",
      "    https://scikit-learn.org/stable/modules/linear_model.html#logistic-regression\n",
      "  extra_warning_msg=_LOGISTIC_SOLVER_CONVERGENCE_MSG,\n"
     ]
    }
   ],
   "source": [
    "## 분류 모델링 : 로지스틱 회귀 모델\n",
    "\n",
    "from sklearn.linear_model import LogisticRegression\n",
    "from sklearn.metrics import accuracy_score, precision_score, recall_score, f1_score\n",
    "\n",
    "### 데이터를 학습 데이터 셋, 테스트 데이터셋으로 분리\n",
    "x_train, y_train = df_train.loc[:, df_train.columns != 'survived'].values, df_train['survived'].values\n",
    "x_test, y_test = df_test.loc[:, df_test.columns != 'survived'].values, df_test['survived'].values\n",
    "\n",
    "### 로지스틱 회귀 모델 학습\n",
    "lr = LogisticRegression(random_state=0)\n",
    "lr.fit(x_train, y_train)\n",
    "\n",
    "### 학습한 모델의 테스트 데이터셋에 대한 예측 결과 반환\n",
    "y_pred = lr.predict(x_test)\n",
    "y_pred_probability = lr.predict_proba(x_test)[:,1]"
   ]
  },
  {
   "cell_type": "code",
   "execution_count": 18,
   "metadata": {},
   "outputs": [
    {
     "name": "stdout",
     "output_type": "stream",
     "text": [
      "accuracy : 0.80\n",
      "Precision : 0.756\n",
      "Recall : 0.673\n",
      "F1 : 0.712\n"
     ]
    }
   ],
   "source": [
    "## 분류 모델 평가하기\n",
    "\n",
    "## 테스트 데이터셋에 대한 정확도, 정밀도, 특이도, f1 평가 지표 출력\n",
    "print(\"accuracy : %.2f\" % accuracy_score(y_test, y_pred))\n",
    "print(\"Precision : %.3f\" % precision_score(y_test, y_pred))\n",
    "print(\"Recall : %.3f\" % recall_score(y_test, y_pred))\n",
    "print(\"F1 : %.3f\" % f1_score(y_test, y_pred))"
   ]
  },
  {
   "cell_type": "code",
   "execution_count": 19,
   "metadata": {},
   "outputs": [
    {
     "name": "stdout",
     "output_type": "stream",
     "text": [
      "[[214  32]\n",
      " [ 48  99]]\n"
     ]
    }
   ],
   "source": [
    "## Confusion Matrix\n",
    "\n",
    "from sklearn.metrics import confusion_matrix\n",
    "\n",
    "confmat = confusion_matrix(y_true=y_test, y_pred=y_pred)\n",
    "print(confmat)"
   ]
  },
  {
   "cell_type": "code",
   "execution_count": 20,
   "metadata": {},
   "outputs": [
    {
     "name": "stdout",
     "output_type": "stream",
     "text": [
      "AUC : 0.838\n"
     ]
    },
    {
     "data": {
      "text/plain": [
       "<matplotlib.legend.Legend at 0x1ef3d7bf948>"
      ]
     },
     "execution_count": 20,
     "metadata": {},
     "output_type": "execute_result"
    },
    {
     "data": {
      "image/png": "[encoded data removed]",
      "text/plain": [
       "<Figure size 360x288 with 1 Axes>"
      ]
     },
     "metadata": {
      "needs_background": "light"
     },
     "output_type": "display_data"
    }
   ],
   "source": [
    "## 로지스틱 회귀 모델의 AUC 구하기\n",
    "\n",
    "from sklearn.metrics import roc_curve, roc_auc_score\n",
    "\n",
    "### AUC를 계산하여 출력\n",
    "false_positive_rate, true_positive_rate, thresholds = roc_curve(y_test, y_pred_probability)\n",
    "roc_auc = roc_auc_score(y_test, y_pred_probability)\n",
    "print(\"AUC : %.3f\" % roc_auc)\n",
    "\n",
    "## ROC curve 그래프 출력\n",
    "plt.rcParams['figure.figsize'] = [5,4]\n",
    "plt.plot(false_positive_rate, true_positive_rate, label='ROC cure (area = %0.3f)'% roc_auc, color='red', linewidth=4.0)\n",
    "plt.plot([0,1], [0,1], 'k--')\n",
    "plt.xlim([0.0, 1.0])\n",
    "plt.ylim([0.0, 1.0])\n",
    "plt.xlabel('False Positive Rate')\n",
    "plt.ylabel('True Positive Rate')\n",
    "plt.title('Roc curve of Logistic regression')\n",
    "plt.legend(loc='lower right')"
   ]
  },
  {
   "cell_type": "code",
   "execution_count": 22,
   "metadata": {},
   "outputs": [
    {
     "name": "stdout",
     "output_type": "stream",
     "text": [
      "accuracy: 0.76\n",
      "Precison: 0.699\n",
      "Recall: 0.646\n",
      "F1: 0.671\n",
      "AUC: 0.748\n"
     ]
    },
    {
     "data": {
      "text/plain": [
       "<matplotlib.legend.Legend at 0x1ef3dfc5408>"
      ]
     },
     "execution_count": 22,
     "metadata": {},
     "output_type": "execute_result"
    },
    {
     "data": {
      "image/png": "[encoded data removed]",
      "text/plain": [
       "<Figure size 360x288 with 1 Axes>"
      ]
     },
     "metadata": {
      "needs_background": "light"
     },
     "output_type": "display_data"
    }
   ],
   "source": [
    "## 의사결정나무\n",
    "\n",
    "from sklearn.tree import DecisionTreeClassifier\n",
    "\n",
    "### 의사결정나무 학습하고, 학습한 모델로 예측값 반환\n",
    "dtc = DecisionTreeClassifier()\n",
    "dtc.fit(x_train,y_train)\n",
    "y_pred = dtc.predict(x_test)\n",
    "y_pred_probability = dtc.predict_proba(x_test)[:,1]\n",
    "\n",
    "### 학습 모델의 성능 계산 \n",
    "print('accuracy: %.2f'% accuracy_score(y_test, y_pred))\n",
    "print('Precison: %.3f'% precision_score(y_test, y_pred))\n",
    "print('Recall: %.3f'% recall_score(y_test, y_pred))\n",
    "print(\"F1: %.3f\"% f1_score(y_test, y_pred))\n",
    "\n",
    "### 학습 모델의 AUC 계산\n",
    "false_positive_rate, true_positive_rate, thresholds = roc_curve(y_test, y_pred_probability)\n",
    "roc_auc = roc_auc_score(y_test, y_pred_probability)\n",
    "print('AUC: %.3f'% roc_auc)\n",
    "\n",
    "### ROC curve\n",
    "plt.rcParams['figure.figsize'] = [5,4]\n",
    "plt.plot(false_positive_rate, true_positive_rate, label = 'ROC curve (area = %.3f)'% roc_auc, color = 'red', linewidth = 4.0)\n",
    "plt.plot([0,1], [0,1], 'k--')\n",
    "plt.xlim([0.0, 1.0])\n",
    "plt.ylim([0.0, 1.0])\n",
    "plt.xlabel('False Positive Rate')\n",
    "plt.ylabel('True Positive Rate')\n",
    "plt.title('Roc curve of Logistic regression')\n",
    "plt.legend(loc='lower right')"
   ]
  },
  {
   "cell_type": "code",
   "execution_count": 25,
   "metadata": {},
   "outputs": [
    {
     "name": "stderr",
     "output_type": "stream",
     "text": [
      "C:\\Users\\ssuki\\Anaconda3\\lib\\site-packages\\pandas\\core\\frame.py:7123: FutureWarning: Sorting because non-concatenation axis is not aligned. A future version\n",
      "of pandas will change to not sort by default.\n",
      "\n",
      "To accept the future behavior, pass 'sort=False'.\n",
      "\n",
      "To retain the current behavior and silence the warning, pass 'sort=True'.\n",
      "\n",
      "  sort=sort,\n"
     ]
    }
   ],
   "source": [
    "# 모델 개선 : 피처 엔지니어링\n",
    "\n",
    "## 분류 모델을 위해 전처리하기\n",
    "\n",
    "### 데이터 다시 불러오기\n",
    "df_train = pd.read_csv('../python-data-analysis-master/data/titanic_train.csv')\n",
    "df_test = pd.read_csv('../python-data-analysis-master/data/titanic_test.csv')\n",
    "df_train = df_train.drop(['ticket', 'body', 'home.dest'], axis=1)\n",
    "df_test = df_test.drop(['ticket', 'body', 'home.dest'], axis=1)\n",
    "\n",
    "### 'age' 결측값 평균으로 대체\n",
    "replace_mean = df_train[df_train['age'] > 0]['age'].mean\n",
    "df_train['age'] = df_train['age'].fillna(replace_mean)\n",
    "df_test['age'] = df_test['age'].fillna(replace_mean)\n",
    "\n",
    "### 'embark' 결측값 최빈값으로 대체\n",
    "embarked_mode = df_train['embarked'].value_counts().index[0]\n",
    "df_train['embarked'] = df_train['embarked'].fillna(embarked_mode)\n",
    "df_test['embarekd'] = df_test['embarked'].fillna(embarked_mode)\n",
    "\n",
    "### 원-핫 인코딩을 위한 통합 데이터프레임 생성\n",
    "whole_df = df_train.append(df_test)\n",
    "train_idx_num = len(df_train)\n",
    "\n"
   ]
  },
  {
   "cell_type": "code",
   "execution_count": 32,
   "metadata": {},
   "outputs": [],
   "source": [
    "## 'cabin' 피처 활용하기\n",
    "\n",
    "### 결측 데이터 'X'로 대체\n",
    "whole_df['cabin'] = whole_df['cabin'].fillna('X')\n",
    "\n",
    "### 'cabin' 피처 첫 번째 알파벳 추출\n",
    "whole_df['cabin'] = whole_df['cabin'].apply(lambda x : x[0])"
   ]
  },
  {
   "cell_type": "code",
   "execution_count": 33,
   "metadata": {},
   "outputs": [
    {
     "name": "stdout",
     "output_type": "stream",
     "text": [
      "X    1014\n",
      "C      94\n",
      "B      65\n",
      "D      46\n",
      "E      41\n",
      "A      22\n",
      "F      21\n",
      "G       5\n",
      "T       1\n",
      "Name: cabin, dtype: int64\n"
     ]
    }
   ],
   "source": [
    "print(whole_df['cabin'].value_counts())"
   ]
  },
  {
   "cell_type": "code",
   "execution_count": 35,
   "metadata": {},
   "outputs": [
    {
     "data": {
      "image/png": "[encoded data removed]",
      "text/plain": [
       "<Figure size 360x288 with 1 Axes>"
      ]
     },
     "metadata": {
      "needs_background": "light"
     },
     "output_type": "display_data"
    }
   ],
   "source": [
    "### 추출한 알파벳 중 'G', 'T'는 수가 너무 적어 'X'로 대체\n",
    "\n",
    "whole_df['cabin'] = whole_df['cabin'].replace({'G':'X', 'T':'X'})\n",
    "\n",
    "ax = sns.countplot(x='cabin', hue = 'survived', data = whole_df)\n",
    "plt.show()"
   ]
  },
  {
   "cell_type": "code",
   "execution_count": null,
   "metadata": {},
   "outputs": [],
   "source": []
  }
 ],
 "metadata": {
  "kernelspec": {
   "display_name": "Python 3",
   "language": "python",
   "name": "python3"
  },
  "language_info": {
   "codemirror_mode": {
    "name": "ipython",
    "version": 3
   },
   "file_extension": ".py",
   "mimetype": "text/x-python",
   "name": "python",
   "nbconvert_exporter": "python",
   "pygments_lexer": "ipython3",
   "version": "3.7.4"
  },
  "toc": {
   "base_numbering": 1,
   "nav_menu": {},
   "number_sections": true,
   "sideBar": true,
   "skip_h1_title": false,
   "title_cell": "Table of Contents",
   "title_sidebar": "Contents",
   "toc_cell": false,
   "toc_position": {},
   "toc_section_display": true,
   "toc_window_display": false
  }
 },
 "nbformat": 4,
 "nbformat_minor": 2
}
